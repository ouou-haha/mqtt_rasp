{
 "cells": [
  {
   "cell_type": "code",
   "execution_count": 49,
   "id": "42a4d676-fdd9-45f3-97f4-f901e4dbf949",
   "metadata": {},
   "outputs": [
    {
     "name": "stdout",
     "output_type": "stream",
     "text": [
      "Client 0 has 198 messages.\n",
      "Client 79 has 193 messages.\n",
      "Client 6 has 196 messages.\n",
      "Client 7 has 195 messages.\n",
      "Client 8 has 198 messages.\n",
      "Client 9 has 193 messages.\n",
      "Client 10 has 196 messages.\n",
      "Client 11 has 193 messages.\n",
      "Client 12 has 195 messages.\n",
      "Client 15 has 193 messages.\n",
      "Client 16 has 193 messages.\n",
      "Client 13 has 197 messages.\n",
      "Client 14 has 195 messages.\n",
      "Client 17 has 196 messages.\n",
      "Client 18 has 195 messages.\n",
      "Client 19 has 196 messages.\n",
      "Client 20 has 191 messages.\n",
      "Client 21 has 196 messages.\n",
      "Client 22 has 193 messages.\n",
      "Client 23 has 194 messages.\n",
      "Client 24 has 192 messages.\n",
      "Client 25 has 194 messages.\n",
      "Client 26 has 193 messages.\n",
      "Client 27 has 194 messages.\n",
      "Client 28 has 193 messages.\n",
      "Client 29 has 197 messages.\n",
      "Client 30 has 193 messages.\n",
      "Client 31 has 195 messages.\n",
      "Client 32 has 193 messages.\n",
      "Client 33 has 192 messages.\n",
      "Client 34 has 195 messages.\n",
      "Client 35 has 192 messages.\n",
      "Client 36 has 192 messages.\n",
      "Client 37 has 193 messages.\n",
      "Client 38 has 194 messages.\n",
      "Client 39 has 196 messages.\n",
      "Client 40 has 195 messages.\n",
      "Client 41 has 194 messages.\n",
      "Client 42 has 195 messages.\n",
      "Client 43 has 196 messages.\n",
      "Client 44 has 198 messages.\n",
      "Client 45 has 195 messages.\n",
      "Client 46 has 193 messages.\n",
      "Client 47 has 195 messages.\n",
      "Client 48 has 193 messages.\n",
      "Client 49 has 194 messages.\n",
      "Client 50 has 196 messages.\n",
      "Client 51 has 193 messages.\n",
      "Client 52 has 195 messages.\n",
      "Client 53 has 193 messages.\n",
      "Client 54 has 193 messages.\n",
      "Client 55 has 196 messages.\n",
      "Client 56 has 199 messages.\n",
      "Client 57 has 198 messages.\n",
      "Client 58 has 195 messages.\n",
      "Client 59 has 197 messages.\n",
      "Client 60 has 195 messages.\n",
      "Client 61 has 194 messages.\n",
      "Client 62 has 198 messages.\n",
      "Client 63 has 199 messages.\n",
      "Client 64 has 194 messages.\n",
      "Client 65 has 196 messages.\n",
      "Client 66 has 197 messages.\n",
      "Client 67 has 197 messages.\n",
      "Client 68 has 197 messages.\n",
      "Client 69 has 198 messages.\n",
      "Client 70 has 199 messages.\n",
      "Client 71 has 196 messages.\n",
      "Client 72 has 200 messages.\n",
      "Client 73 has 195 messages.\n",
      "Client 74 has 197 messages.\n",
      "Client 3 has 198 messages.\n",
      "Client 76 has 196 messages.\n",
      "Client 75 has 198 messages.\n",
      "Client 4 has 199 messages.\n",
      "Client 77 has 197 messages.\n",
      "Client 78 has 199 messages.\n",
      "Client 1 has 197 messages.\n",
      "Client 5 has 196 messages.\n",
      "Client 2 has 194 messages.\n"
     ]
    }
   ],
   "source": [
    "def count_clients(filename):\n",
    "    client_counts = {}  # 用于存储每个客户端的计数\n",
    "\n",
    "    with open(filename, 'r') as file:\n",
    "        for line in file:\n",
    "            # 假设每行的格式为 \"message: Client XX, Timestamp:  XX:XX:XX.XXX\"\n",
    "            parts = line.split(',')\n",
    "            client_part = parts[0]  # \"message: Client XX\"\n",
    "            client_id = client_part.split()[2]  # 获取客户端编号\n",
    "            \n",
    "            if client_id in client_counts:\n",
    "                client_counts[client_id] += 1\n",
    "            else:\n",
    "                client_counts[client_id] = 1\n",
    "\n",
    "    return client_counts\n",
    "\n",
    "# 读取文件并打印每个客户端的数量\n",
    "filename = 'output.txt'  # 将此路径替换为实际的文件路径\n",
    "a = 0\n",
    "client_counts = count_clients(filename)\n",
    "for client_id, count in client_counts.items():\n",
    "    print(f\"Client {client_id} has {count} messages.\")\n",
    "    a = a + 1"
   ]
  },
  {
   "cell_type": "code",
   "execution_count": 48,
   "id": "f2241681-e230-44a9-bd59-0e1a0209e2e0",
   "metadata": {},
   "outputs": [
    {
     "data": {
      "text/plain": [
       "0"
      ]
     },
     "execution_count": 48,
     "metadata": {},
     "output_type": "execute_result"
    }
   ],
   "source": [
    "a"
   ]
  },
  {
   "cell_type": "code",
   "execution_count": null,
   "id": "6c23059b-46bb-4f5d-922d-95e50f8b77c0",
   "metadata": {},
   "outputs": [],
   "source": []
  },
  {
   "cell_type": "code",
   "execution_count": null,
   "id": "8939a77e-3e88-48d7-b4d2-352709260960",
   "metadata": {},
   "outputs": [],
   "source": []
  },
  {
   "cell_type": "code",
   "execution_count": null,
   "id": "a204a4c4-2947-4574-a39b-5ea46a1d2d25",
   "metadata": {},
   "outputs": [],
   "source": []
  }
 ],
 "metadata": {
  "kernelspec": {
   "display_name": "Python 3 (ipykernel)",
   "language": "python",
   "name": "python3"
  },
  "language_info": {
   "codemirror_mode": {
    "name": "ipython",
    "version": 3
   },
   "file_extension": ".py",
   "mimetype": "text/x-python",
   "name": "python",
   "nbconvert_exporter": "python",
   "pygments_lexer": "ipython3",
   "version": "3.12.4"
  }
 },
 "nbformat": 4,
 "nbformat_minor": 5
}
